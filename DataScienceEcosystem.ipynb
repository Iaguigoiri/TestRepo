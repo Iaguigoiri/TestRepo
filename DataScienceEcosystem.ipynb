{
 "cells": [
  {
   "cell_type": "markdown",
   "id": "8101eb64",
   "metadata": {},
   "source": [
    "# Data Science Tools and Ecosystem"
   ]
  },
  {
   "cell_type": "markdown",
   "id": "3a33b1d1",
   "metadata": {},
   "source": [
    "In this notebook, Data Science Tools and Ecosystem are summarized."
   ]
  },
  {
   "cell_type": "markdown",
   "id": "cd08a544",
   "metadata": {},
   "source": [
    "Some of the popular languages that Data Scientists use are:\n",
    "\n",
    "1.R\n",
    "\n",
    "2.Julia\n",
    "\n",
    "3.C++"
   ]
  },
  {
   "cell_type": "markdown",
   "id": "586a3fd4",
   "metadata": {},
   "source": [
    "Some of the commonly used libraries used by Data Scientists include:\n",
    "\n",
    "1.pandas\n",
    "\n",
    "2.pytorch\n",
    "\n",
    "3.numpy"
   ]
  },
  {
   "cell_type": "markdown",
   "id": "23396905",
   "metadata": {},
   "source": [
    "| Data Science Tools           |\n",
    "|------------------------------|\n",
    "| Jupyter Notebook             |\n",
    "| RStudio                     |\n",
    "| Apache Zeppelin              |\n"
   ]
  },
  {
   "cell_type": "markdown",
   "id": "cee9062d",
   "metadata": {},
   "source": [
    "### Below are a few examples of evaluating arithmetic expressions in Python.\n",
    "\n",
    "a = 10\n",
    "b = 3\n",
    "\n",
    "print(a + b)   # 13\n",
    "\n",
    "print(a - b)   # 7\n",
    "\n",
    "print(a * b)   # 30\n",
    "\n",
    "print(a / b)   # 3.333...\n",
    "\n",
    "print(a // b)  # 3\n",
    "\n",
    "print(a % b)   # 1\n",
    "\n",
    "print(a ** b)  # 1000\n"
   ]
  },
  {
   "cell_type": "code",
   "execution_count": 1,
   "id": "abbd6854",
   "metadata": {},
   "outputs": [
    {
     "data": {
      "text/plain": [
       "17"
      ]
     },
     "execution_count": 1,
     "metadata": {},
     "output_type": "execute_result"
    }
   ],
   "source": [
    "# This is a simple arithmetic expression to multiply then add integers\n",
    "(3*4)+5"
   ]
  },
  {
   "cell_type": "code",
   "execution_count": 2,
   "id": "fe52a7e0",
   "metadata": {},
   "outputs": [
    {
     "data": {
      "text/plain": [
       "3.3333333333333335"
      ]
     },
     "execution_count": 2,
     "metadata": {},
     "output_type": "execute_result"
    }
   ],
   "source": [
    "# This will convert 200 minutes to hours by diving by 60 \n",
    "200/60"
   ]
  },
  {
   "cell_type": "markdown",
   "id": "3815b7c1",
   "metadata": {},
   "source": [
    "**Objectives**\n",
    "\n",
    "- List popular languages for Data Science\n",
    "- List tools for Data Science\n",
    "- List common libraries for Data Science\n",
    "- List arithmetic expressions possible in Python"
   ]
  },
  {
   "cell_type": "markdown",
   "id": "3a791e12",
   "metadata": {},
   "source": [
    "## Author\n",
    "Iñigo Aguilera"
   ]
  },
  {
   "cell_type": "code",
   "execution_count": null,
   "id": "b45cd258",
   "metadata": {},
   "outputs": [],
   "source": [
    "## "
   ]
  }
 ],
 "metadata": {
  "kernelspec": {
   "display_name": "base",
   "language": "python",
   "name": "python3"
  },
  "language_info": {
   "codemirror_mode": {
    "name": "ipython",
    "version": 3
   },
   "file_extension": ".py",
   "mimetype": "text/x-python",
   "name": "python",
   "nbconvert_exporter": "python",
   "pygments_lexer": "ipython3",
   "version": "3.11.7"
  }
 },
 "nbformat": 4,
 "nbformat_minor": 5
}
